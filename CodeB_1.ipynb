{
  "nbformat": 4,
  "nbformat_minor": 0,
  "metadata": {
    "colab": {
      "provenance": []
    },
    "kernelspec": {
      "name": "python3",
      "display_name": "Python 3"
    },
    "language_info": {
      "name": "python"
    }
  },
  "cells": [
    {
      "cell_type": "markdown",
      "source": [
        "1. Write a function called calculate_area that takes base and height as an input and returns and area of a triangle. Equation of an area of a triangle is\n",
        "\n",
        "        area = (1/2)*base*height"
      ],
      "metadata": {
        "id": "8EeJDAkWVY0C"
      }
    },
    {
      "cell_type": "code",
      "execution_count": null,
      "metadata": {
        "colab": {
          "base_uri": "https://localhost:8080/"
        },
        "id": "qoPu5Rxvqpj1",
        "outputId": "cd45211d-8e42-4bef-8ac5-57a3a844cd77"
      },
      "outputs": [
        {
          "output_type": "stream",
          "name": "stdout",
          "text": [
            "Enter Base:2\n",
            "Enter Height:5\n",
            "Base is: 2\n",
            "Height is: 5\n",
            "Area of triangle is:-  5.0\n"
          ]
        }
      ],
      "source": [
        "def triangle_area(base,height):\n",
        "  print(\"Base is:\", base)\n",
        "  print(\"Height is:\", height)\n",
        "  area = 0.5*float(base)*float(height)\n",
        "  return area\n",
        "\n",
        "b= input(\"Enter Base:\")\n",
        "h= input(\"Enter Height:\")\n",
        "print(\"Area of triangle is:- \", triangle_area(b,h))"
      ]
    },
    {
      "cell_type": "markdown",
      "source": [
        "2. Modify above function to take third parameter shape type. It can be either \"triangle\" or \"rectangle\". Based on shape type it will calculate area. Equation of rectangle's area is,\n",
        "\n",
        "\n",
        "    rectangle area=length*width\n",
        "    \n",
        "  If no shape is supplied then it should take triangle as a default shape"
      ],
      "metadata": {
        "id": "tkwhnMQHWqA2"
      }
    },
    {
      "cell_type": "code",
      "source": [
        "def calculate_area(dimension1,dimension2,shape=\"triangle\"):\n",
        "   \n",
        "    if shape==\"triangle\":\n",
        "        area=1/2*(dimension1*dimension2) \n",
        "    elif shape==\"rectangle\":\n",
        "        area=dimension1*dimension2 \n",
        "    else:\n",
        "        print(\"Error: Input shape is neither triangle nor rectangle.\")\n",
        "        area=None \n",
        "    return area\n",
        "\n",
        "\n",
        "\n",
        "base=10\n",
        "height=5\n",
        "triangle_area=calculate_area(base,height,\"triangle\")\n",
        "print(\"Area of triangle is:\",triangle_area)\n",
        "\n",
        "\n",
        "length=20\n",
        "width=30\n",
        "rectangle_area=calculate_area(length,width,\"rectangle\")\n",
        "print(\"Area of rectangle is:\",rectangle_area)\n",
        "\n",
        "\n",
        "triangle_area=calculate_area(base,height) # Here third argument is missing\n",
        "print(\"Area of triangle with no shape supplied: \",triangle_area)\n"
      ],
      "metadata": {
        "colab": {
          "base_uri": "https://localhost:8080/"
        },
        "id": "2PANbL3AXs9s",
        "outputId": "8256a555-4abf-474e-ca32-e14d6c9af131"
      },
      "execution_count": null,
      "outputs": [
        {
          "output_type": "stream",
          "name": "stdout",
          "text": [
            "Area of triangle is: 25.0\n",
            "Area of rectangle is: 600\n",
            "Area of triangle with no shape supplied:  25.0\n"
          ]
        }
      ]
    },
    {
      "cell_type": "markdown",
      "source": [
        "3. Write a function called print_pattern that takes integer number as an argument and prints following pattern if input number is 3,\n",
        "\n",
        "```\n",
        "*\n",
        "**\n",
        "***\n",
        "\n",
        "```\n",
        "if input is 4 then it should print\n",
        "```\n",
        "*\n",
        "**\n",
        "***\n",
        "****\n",
        "```\n",
        "Basically number of lines it prints is equal to that number. (Hint: you need to use two for loops)"
      ],
      "metadata": {
        "id": "-8mdII6mcBil"
      }
    },
    {
      "cell_type": "code",
      "source": [
        "def print_pattern(n=5):\n",
        "   \n",
        "    for i in range(n):\n",
        "        s = ' '\n",
        "        for j in range(i+1):\n",
        "            s = s + '*'\n",
        "        print(s)\n",
        "\n",
        "\n",
        "print(\"Print pattern with input=3\")\n",
        "print_pattern(3)\n",
        "print(\"Print pattern with input=4\")\n",
        "print_pattern(4)\n",
        "print(\"Print pattern with no input number\")\n",
        "print_pattern() # Not supplying any input will use default argument which is 5\n"
      ],
      "metadata": {
        "colab": {
          "base_uri": "https://localhost:8080/"
        },
        "id": "WE0p0QyxdoJ8",
        "outputId": "004af6c2-81dd-43f7-f6be-472d9ffb0ae5"
      },
      "execution_count": null,
      "outputs": [
        {
          "output_type": "stream",
          "name": "stdout",
          "text": [
            "Print pattern with input=3\n",
            " *\n",
            " **\n",
            " ***\n",
            "Print pattern with input=4\n",
            " *\n",
            " **\n",
            " ***\n",
            " ****\n",
            "Print pattern with no input number\n",
            " *\n",
            " **\n",
            " ***\n",
            " ****\n",
            " *****\n"
          ]
        }
      ]
    }
  ]
}