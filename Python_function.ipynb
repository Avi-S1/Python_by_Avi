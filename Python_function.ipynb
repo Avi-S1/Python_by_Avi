{
 "cells": [
  {
   "cell_type": "markdown",
   "id": "f5d16783",
   "metadata": {},
   "source": [
    "## Python_Functions\n",
    "Here, we've to see what, a function is, how it works, its usage..etc.   \n",
    "Now, we are going to do few basic things here and it'll continue further."
   ]
  },
  {
   "cell_type": "code",
   "execution_count": 1,
   "id": "139e31c7",
   "metadata": {},
   "outputs": [
    {
     "name": "stdout",
     "output_type": "stream",
     "text": [
      "begin\n",
      "<function myfunc at 0x000000B201F69750>\n",
      "welcom\n",
      "<function myfunc at 0x000000B201F69750>\n",
      "welcom\n",
      "end\n"
     ]
    }
   ],
   "source": [
    "print(\"begin\")\n",
    "def myfunc():\n",
    "    print(\"welcom\")\n",
    "print(myfunc)\n",
    "myfunc()\n",
    "myvar=myfunc\n",
    "print(myvar)\n",
    "myvar()\n",
    "print (\"end\")"
   ]
  },
  {
   "cell_type": "code",
   "execution_count": 2,
   "id": "45cfd958",
   "metadata": {},
   "outputs": [
    {
     "name": "stdout",
     "output_type": "stream",
     "text": [
      "enter a number:12\n",
      "the factorial of 12 is 479001600\n"
     ]
    }
   ],
   "source": [
    "def recur_fact(x):\n",
    "    if x==1:\n",
    "        return 1\n",
    "    else:\n",
    "        return(x*recur_fact(x-1))\n",
    "num=int(input(\"enter a number:\"))\n",
    "if num>=1:\n",
    "    print(\"the factorial of\",num,\"is\",recur_fact(num))\n"
   ]
  },
  {
   "cell_type": "code",
   "execution_count": 3,
   "id": "372330da",
   "metadata": {},
   "outputs": [
    {
     "name": "stdout",
     "output_type": "stream",
     "text": [
      "[10, 20, 30, 40, 50]\n",
      "10\n",
      "20\n",
      "30\n",
      "40\n",
      "50\n",
      "10\n",
      "20\n",
      "30\n",
      "40\n",
      "50\n",
      "150\n",
      "150\n"
     ]
    }
   ],
   "source": [
    "x=[10,20,30,40,50,]\n",
    "print(x)\n",
    "for p in x:\n",
    "    print(p)\n",
    "\n",
    "i=0\n",
    "while i<len(x):\n",
    "    print(x[i])\n",
    "    i=i+1\n",
    "\n",
    "\n",
    "s1=0\n",
    "for p in x :\n",
    "    s1=s1+p\n",
    "print(s1)\n",
    "\n",
    "\n",
    "s2=0\n",
    "l=0\n",
    "while l < len(x):\n",
    "    s2=s2+x[l]\n",
    "    l=l+1\n",
    "print(s2)"
   ]
  },
  {
   "cell_type": "code",
   "execution_count": 4,
   "id": "2fad1a86",
   "metadata": {},
   "outputs": [
    {
     "name": "stdout",
     "output_type": "stream",
     "text": [
      "['python is awesome.']\n",
      "python is awesome.\n"
     ]
    }
   ],
   "source": [
    "x=\"python is awesome.\"\n",
    "y=[k for k in x.split (\",\")]\n",
    "print (y)\n",
    "for q in y :\n",
    "    print(q)"
   ]
  },
  {
   "cell_type": "code",
   "execution_count": 5,
   "id": "7b31d1be",
   "metadata": {},
   "outputs": [
    {
     "name": "stdout",
     "output_type": "stream",
     "text": [
      "['python', 'PYTHON', 6]\n",
      "['is', 'IS', 2]\n",
      "['opensource', 'OPENSOURCE', 10]\n"
     ]
    }
   ],
   "source": [
    "for i in [[p.lower(), p.upper(), len(p)] \n",
    "          for p in 'python is opensource'.split(\" \")]:\n",
    "    print(i)"
   ]
  },
  {
   "cell_type": "code",
   "execution_count": 7,
   "id": "95732fcc",
   "metadata": {},
   "outputs": [
    {
     "ename": "IndentationError",
     "evalue": "unindent does not match any outer indentation level (<tokenize>, line 12)",
     "output_type": "error",
     "traceback": [
      "\u001b[1;36m  File \u001b[1;32m\"<tokenize>\"\u001b[1;36m, line \u001b[1;32m12\u001b[0m\n\u001b[1;33m    else:\u001b[0m\n\u001b[1;37m    ^\u001b[0m\n\u001b[1;31mIndentationError\u001b[0m\u001b[1;31m:\u001b[0m unindent does not match any outer indentation level\n"
     ]
    }
   ],
   "source": [
    "for i in range (2,30):\n",
    "    j=2\n",
    "    counter=0\n",
    "    while j<i:\n",
    "        if i%j==0:\n",
    "            counter=1\n",
    "            j=j+1\n",
    "        else:\n",
    "            j=j+1\n",
    "            if counter ==0:\n",
    "                print (str(i)+ \"is a prime num\")\n",
    "         else:\n",
    "            counter = 0"
   ]
  },
  {
   "cell_type": "code",
   "execution_count": null,
   "id": "8ef997a9",
   "metadata": {},
   "outputs": [],
   "source": []
  }
 ],
 "metadata": {
  "kernelspec": {
   "display_name": "Python 3 (ipykernel)",
   "language": "python",
   "name": "python3"
  },
  "language_info": {
   "codemirror_mode": {
    "name": "ipython",
    "version": 3
   },
   "file_extension": ".py",
   "mimetype": "text/x-python",
   "name": "python",
   "nbconvert_exporter": "python",
   "pygments_lexer": "ipython3",
   "version": "3.10.0"
  }
 },
 "nbformat": 4,
 "nbformat_minor": 5
}
